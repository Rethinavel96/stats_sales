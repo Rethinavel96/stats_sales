{
 "cells": [
  {
   "cell_type": "code",
   "execution_count": 14,
   "id": "7d2e1973",
   "metadata": {},
   "outputs": [],
   "source": [
    "# Importing required libraries\n",
    "import pandas as pd\n",
    "import numpy as np\n",
    "import matplotlib.pyplot as plt\n",
    "import seaborn as sns\n",
    "import scipy.stats as stats"
   ]
  },
  {
   "cell_type": "code",
   "execution_count": 104,
   "id": "d91e1ee3",
   "metadata": {},
   "outputs": [],
   "source": [
    "# load dataset\n",
    "df=pd.read_csv('product_sales.csv',date_parser='Date')"
   ]
  },
  {
   "cell_type": "code",
   "execution_count": 82,
   "id": "a53c65d0",
   "metadata": {},
   "outputs": [
    {
     "data": {
      "text/html": [
       "<div>\n",
       "<style scoped>\n",
       "    .dataframe tbody tr th:only-of-type {\n",
       "        vertical-align: middle;\n",
       "    }\n",
       "\n",
       "    .dataframe tbody tr th {\n",
       "        vertical-align: top;\n",
       "    }\n",
       "\n",
       "    .dataframe thead th {\n",
       "        text-align: right;\n",
       "    }\n",
       "</style>\n",
       "<table border=\"1\" class=\"dataframe\">\n",
       "  <thead>\n",
       "    <tr style=\"text-align: right;\">\n",
       "      <th></th>\n",
       "      <th>Invoice ID</th>\n",
       "      <th>Branch</th>\n",
       "      <th>City</th>\n",
       "      <th>Customer type</th>\n",
       "      <th>Gender</th>\n",
       "      <th>Product line</th>\n",
       "      <th>Unit price</th>\n",
       "      <th>Quantity</th>\n",
       "      <th>Tax 5%</th>\n",
       "      <th>Total</th>\n",
       "      <th>Date</th>\n",
       "      <th>Time</th>\n",
       "      <th>Payment</th>\n",
       "      <th>cogs</th>\n",
       "      <th>gross margin percentage</th>\n",
       "      <th>gross income</th>\n",
       "      <th>Rating</th>\n",
       "      <th>product_price_range</th>\n",
       "      <th>customers_range</th>\n",
       "    </tr>\n",
       "  </thead>\n",
       "  <tbody>\n",
       "    <tr>\n",
       "      <th>0</th>\n",
       "      <td>750-67-8428</td>\n",
       "      <td>A</td>\n",
       "      <td>Yangon</td>\n",
       "      <td>Member</td>\n",
       "      <td>Female</td>\n",
       "      <td>Health and beauty</td>\n",
       "      <td>74.69</td>\n",
       "      <td>7</td>\n",
       "      <td>26.1415</td>\n",
       "      <td>548.9715</td>\n",
       "      <td>1/5/2019</td>\n",
       "      <td>13:08</td>\n",
       "      <td>Ewallet</td>\n",
       "      <td>522.83</td>\n",
       "      <td>4.761905</td>\n",
       "      <td>26.1415</td>\n",
       "      <td>9.1</td>\n",
       "      <td>high_cost_product</td>\n",
       "      <td>mid_purchase_amount</td>\n",
       "    </tr>\n",
       "    <tr>\n",
       "      <th>1</th>\n",
       "      <td>226-31-3081</td>\n",
       "      <td>C</td>\n",
       "      <td>Naypyitaw</td>\n",
       "      <td>Normal</td>\n",
       "      <td>Female</td>\n",
       "      <td>Electronic accessories</td>\n",
       "      <td>15.28</td>\n",
       "      <td>5</td>\n",
       "      <td>3.8200</td>\n",
       "      <td>80.2200</td>\n",
       "      <td>3/8/2019</td>\n",
       "      <td>10:29</td>\n",
       "      <td>Cash</td>\n",
       "      <td>76.40</td>\n",
       "      <td>4.761905</td>\n",
       "      <td>3.8200</td>\n",
       "      <td>9.6</td>\n",
       "      <td>low_cost_product</td>\n",
       "      <td>low_purchase_amount</td>\n",
       "    </tr>\n",
       "    <tr>\n",
       "      <th>2</th>\n",
       "      <td>631-41-3108</td>\n",
       "      <td>A</td>\n",
       "      <td>Yangon</td>\n",
       "      <td>Normal</td>\n",
       "      <td>Male</td>\n",
       "      <td>Home and lifestyle</td>\n",
       "      <td>46.33</td>\n",
       "      <td>7</td>\n",
       "      <td>16.2155</td>\n",
       "      <td>340.5255</td>\n",
       "      <td>3/3/2019</td>\n",
       "      <td>13:23</td>\n",
       "      <td>Credit card</td>\n",
       "      <td>324.31</td>\n",
       "      <td>4.761905</td>\n",
       "      <td>16.2155</td>\n",
       "      <td>7.4</td>\n",
       "      <td>mid_cost_product</td>\n",
       "      <td>low_purchase_amount</td>\n",
       "    </tr>\n",
       "    <tr>\n",
       "      <th>3</th>\n",
       "      <td>123-19-1176</td>\n",
       "      <td>A</td>\n",
       "      <td>Yangon</td>\n",
       "      <td>Member</td>\n",
       "      <td>Male</td>\n",
       "      <td>Health and beauty</td>\n",
       "      <td>58.22</td>\n",
       "      <td>8</td>\n",
       "      <td>23.2880</td>\n",
       "      <td>489.0480</td>\n",
       "      <td>1/27/2019</td>\n",
       "      <td>20:33</td>\n",
       "      <td>Ewallet</td>\n",
       "      <td>465.76</td>\n",
       "      <td>4.761905</td>\n",
       "      <td>23.2880</td>\n",
       "      <td>8.4</td>\n",
       "      <td>mid_cost_product</td>\n",
       "      <td>mid_purchase_amount</td>\n",
       "    </tr>\n",
       "    <tr>\n",
       "      <th>4</th>\n",
       "      <td>373-73-7910</td>\n",
       "      <td>A</td>\n",
       "      <td>Yangon</td>\n",
       "      <td>Normal</td>\n",
       "      <td>Male</td>\n",
       "      <td>Sports and travel</td>\n",
       "      <td>86.31</td>\n",
       "      <td>7</td>\n",
       "      <td>30.2085</td>\n",
       "      <td>634.3785</td>\n",
       "      <td>2/8/2019</td>\n",
       "      <td>10:37</td>\n",
       "      <td>Ewallet</td>\n",
       "      <td>604.17</td>\n",
       "      <td>4.761905</td>\n",
       "      <td>30.2085</td>\n",
       "      <td>5.3</td>\n",
       "      <td>high_cost_product</td>\n",
       "      <td>mid_purchase_amount</td>\n",
       "    </tr>\n",
       "  </tbody>\n",
       "</table>\n",
       "</div>"
      ],
      "text/plain": [
       "    Invoice ID Branch       City Customer type  Gender  \\\n",
       "0  750-67-8428      A     Yangon        Member  Female   \n",
       "1  226-31-3081      C  Naypyitaw        Normal  Female   \n",
       "2  631-41-3108      A     Yangon        Normal    Male   \n",
       "3  123-19-1176      A     Yangon        Member    Male   \n",
       "4  373-73-7910      A     Yangon        Normal    Male   \n",
       "\n",
       "             Product line  Unit price  Quantity   Tax 5%     Total       Date  \\\n",
       "0       Health and beauty       74.69         7  26.1415  548.9715   1/5/2019   \n",
       "1  Electronic accessories       15.28         5   3.8200   80.2200   3/8/2019   \n",
       "2      Home and lifestyle       46.33         7  16.2155  340.5255   3/3/2019   \n",
       "3       Health and beauty       58.22         8  23.2880  489.0480  1/27/2019   \n",
       "4       Sports and travel       86.31         7  30.2085  634.3785   2/8/2019   \n",
       "\n",
       "    Time      Payment    cogs  gross margin percentage  gross income  Rating  \\\n",
       "0  13:08      Ewallet  522.83                 4.761905       26.1415     9.1   \n",
       "1  10:29         Cash   76.40                 4.761905        3.8200     9.6   \n",
       "2  13:23  Credit card  324.31                 4.761905       16.2155     7.4   \n",
       "3  20:33      Ewallet  465.76                 4.761905       23.2880     8.4   \n",
       "4  10:37      Ewallet  604.17                 4.761905       30.2085     5.3   \n",
       "\n",
       "  product_price_range      customers_range  \n",
       "0   high_cost_product  mid_purchase_amount  \n",
       "1    low_cost_product  low_purchase_amount  \n",
       "2    mid_cost_product  low_purchase_amount  \n",
       "3    mid_cost_product  mid_purchase_amount  \n",
       "4   high_cost_product  mid_purchase_amount  "
      ]
     },
     "execution_count": 82,
     "metadata": {},
     "output_type": "execute_result"
    }
   ],
   "source": [
    "# To see the dataset\n",
    "df.head()"
   ]
  },
  {
   "cell_type": "code",
   "execution_count": 4,
   "id": "264945aa",
   "metadata": {},
   "outputs": [
    {
     "name": "stdout",
     "output_type": "stream",
     "text": [
      "<class 'pandas.core.frame.DataFrame'>\n",
      "RangeIndex: 1000 entries, 0 to 999\n",
      "Data columns (total 17 columns):\n",
      " #   Column                   Non-Null Count  Dtype  \n",
      "---  ------                   --------------  -----  \n",
      " 0   Invoice ID               1000 non-null   object \n",
      " 1   Branch                   1000 non-null   object \n",
      " 2   City                     1000 non-null   object \n",
      " 3   Customer type            1000 non-null   object \n",
      " 4   Gender                   1000 non-null   object \n",
      " 5   Product line             1000 non-null   object \n",
      " 6   Unit price               1000 non-null   float64\n",
      " 7   Quantity                 1000 non-null   int64  \n",
      " 8   Tax 5%                   1000 non-null   float64\n",
      " 9   Total                    1000 non-null   float64\n",
      " 10  Date                     1000 non-null   object \n",
      " 11  Time                     1000 non-null   object \n",
      " 12  Payment                  1000 non-null   object \n",
      " 13  cogs                     1000 non-null   float64\n",
      " 14  gross margin percentage  1000 non-null   float64\n",
      " 15  gross income             1000 non-null   float64\n",
      " 16  Rating                   1000 non-null   float64\n",
      "dtypes: float64(7), int64(1), object(9)\n",
      "memory usage: 132.9+ KB\n"
     ]
    }
   ],
   "source": [
    "df.info()"
   ]
  },
  {
   "cell_type": "code",
   "execution_count": 5,
   "id": "2b05de9a",
   "metadata": {},
   "outputs": [
    {
     "data": {
      "text/plain": [
       "Invoice ID                 0\n",
       "Branch                     0\n",
       "City                       0\n",
       "Customer type              0\n",
       "Gender                     0\n",
       "Product line               0\n",
       "Unit price                 0\n",
       "Quantity                   0\n",
       "Tax 5%                     0\n",
       "Total                      0\n",
       "Date                       0\n",
       "Time                       0\n",
       "Payment                    0\n",
       "cogs                       0\n",
       "gross margin percentage    0\n",
       "gross income               0\n",
       "Rating                     0\n",
       "dtype: int64"
      ]
     },
     "execution_count": 5,
     "metadata": {},
     "output_type": "execute_result"
    }
   ],
   "source": [
    "# There is no null values in this dataset\n",
    "df.isnull().sum()"
   ]
  },
  {
   "cell_type": "markdown",
   "id": "7dac34a0",
   "metadata": {},
   "source": [
    "## Basic details of dataset"
   ]
  },
  {
   "cell_type": "code",
   "execution_count": 6,
   "id": "6aedbf00",
   "metadata": {},
   "outputs": [
    {
     "data": {
      "text/plain": [
       "Yangon       340\n",
       "Mandalay     332\n",
       "Naypyitaw    328\n",
       "Name: City, dtype: int64"
      ]
     },
     "execution_count": 6,
     "metadata": {},
     "output_type": "execute_result"
    }
   ],
   "source": [
    "\n",
    "df['City'].value_counts()"
   ]
  },
  {
   "cell_type": "code",
   "execution_count": 7,
   "id": "a846f381",
   "metadata": {},
   "outputs": [
    {
     "data": {
      "text/plain": [
       "Member    501\n",
       "Normal    499\n",
       "Name: Customer type, dtype: int64"
      ]
     },
     "execution_count": 7,
     "metadata": {},
     "output_type": "execute_result"
    }
   ],
   "source": [
    "df['Customer type'].value_counts()"
   ]
  },
  {
   "cell_type": "code",
   "execution_count": 8,
   "id": "f2a2a283",
   "metadata": {},
   "outputs": [
    {
     "data": {
      "text/plain": [
       "Fashion accessories       178\n",
       "Food and beverages        174\n",
       "Electronic accessories    170\n",
       "Sports and travel         166\n",
       "Home and lifestyle        160\n",
       "Health and beauty         152\n",
       "Name: Product line, dtype: int64"
      ]
     },
     "execution_count": 8,
     "metadata": {},
     "output_type": "execute_result"
    }
   ],
   "source": [
    "df['Product line'].value_counts()"
   ]
  },
  {
   "cell_type": "code",
   "execution_count": 9,
   "id": "5857cee5",
   "metadata": {},
   "outputs": [
    {
     "data": {
      "text/plain": [
       "Ewallet        345\n",
       "Cash           344\n",
       "Credit card    311\n",
       "Name: Payment, dtype: int64"
      ]
     },
     "execution_count": 9,
     "metadata": {},
     "output_type": "execute_result"
    }
   ],
   "source": [
    "df['Payment'].value_counts()"
   ]
  },
  {
   "cell_type": "code",
   "execution_count": 13,
   "id": "352f6675",
   "metadata": {},
   "outputs": [
    {
     "data": {
      "text/plain": [
       "<AxesSubplot:xlabel='Total', ylabel='Count'>"
      ]
     },
     "execution_count": 13,
     "metadata": {},
     "output_type": "execute_result"
    },
    {
     "data": {
      "image/png": "[encoded data removed]",
      "text/plain": [
       "<Figure size 432x288 with 1 Axes>"
      ]
     },
     "metadata": {
      "needs_background": "light"
     },
     "output_type": "display_data"
    }
   ],
   "source": [
    "sns.histplot(df['Total'])"
   ]
  },
  {
   "cell_type": "code",
   "execution_count": 25,
   "id": "09fb37a3",
   "metadata": {},
   "outputs": [],
   "source": [
    "df['product_price_range']=pd.cut(df['Unit price'],[0,33,66,100],labels=['low_cost_product','mid_cost_product','high_cost_product'])"
   ]
  },
  {
   "cell_type": "code",
   "execution_count": 30,
   "id": "629c0dcd",
   "metadata": {},
   "outputs": [],
   "source": [
    "df['customers_range']=pd.cut(df['Total'],[0,350,700,1100],labels=['low_purchase_amount','mid_purchase_amount','high_purchase_amount'])"
   ]
  },
  {
   "cell_type": "code",
   "execution_count": 91,
   "id": "caa0b48a",
   "metadata": {},
   "outputs": [],
   "source": [
    "df['ratings_range']=pd.cut(df['Rating'],[0,3.3,6.6,10],labels=['low_rating','avg_rating','high_rating'])"
   ]
  },
  {
   "cell_type": "markdown",
   "id": "7f0ef8bb",
   "metadata": {},
   "source": [
    "* t test for checking significance difference between different gender type\n",
    "\n",
    "* Hypothesis define\n",
    "  * Null hypothesis :-  there is no significance difference between male and female purchase amount\n",
    "  * Alternate hypothesis :- there is significance difference between male and female purchase amount\n",
    "\n"
   ]
  },
  {
   "cell_type": "code",
   "execution_count": 36,
   "id": "bd602f67",
   "metadata": {},
   "outputs": [],
   "source": [
    "male=df[df['Gender']=='Male']['Total'] \n",
    "female=df[df['Gender']=='Female']['Total']"
   ]
  },
  {
   "cell_type": "code",
   "execution_count": 37,
   "id": "e18497d9",
   "metadata": {},
   "outputs": [
    {
     "data": {
      "text/plain": [
       "Ttest_indResult(statistic=-1.5641266415241026, pvalue=0.11810484577135677)"
      ]
     },
     "execution_count": 37,
     "metadata": {},
     "output_type": "execute_result"
    }
   ],
   "source": [
    "stats.ttest_ind(male,female)"
   ]
  },
  {
   "cell_type": "markdown",
   "id": "df7d003b",
   "metadata": {},
   "source": [
    "* pvalue is greater than 0.5 so accept null hypothesis\n",
    "* Result:- There is no significance difference between male and female purchase amount"
   ]
  },
  {
   "cell_type": "code",
   "execution_count": 40,
   "id": "cc335237",
   "metadata": {},
   "outputs": [
    {
     "data": {
      "text/plain": [
       "<AxesSubplot:xlabel='Gender', ylabel='Total'>"
      ]
     },
     "execution_count": 40,
     "metadata": {},
     "output_type": "execute_result"
    },
    {
     "data": {
      "image/png": "[encoded data removed]",
      "text/plain": [
       "<Figure size 432x288 with 1 Axes>"
      ]
     },
     "metadata": {
      "needs_background": "light"
     },
     "output_type": "display_data"
    }
   ],
   "source": [
    "sns.boxplot(y=df['Total'],x=df['Gender'])\n",
    "#visual way can conclude because both medians are same with little changes only"
   ]
  },
  {
   "cell_type": "code",
   "execution_count": 41,
   "id": "8605c084",
   "metadata": {},
   "outputs": [
    {
     "data": {
      "text/plain": [
       "<AxesSubplot:xlabel='Gender', ylabel='Total'>"
      ]
     },
     "execution_count": 41,
     "metadata": {},
     "output_type": "execute_result"
    },
    {
     "data": {
      "image/png": "[encoded data removed]",
      "text/plain": [
       "<Figure size 432x288 with 1 Axes>"
      ]
     },
     "metadata": {
      "needs_background": "light"
     },
     "output_type": "display_data"
    }
   ],
   "source": [
    "sns.barplot(data=df,x='Gender',y='Total')"
   ]
  },
  {
   "cell_type": "markdown",
   "id": "fd923717",
   "metadata": {},
   "source": [
    "* statistics test to check relation between different type cities\n",
    "\n",
    "* Hypothesis define\n",
    "  * Null hypothesis :- There is no significance difference between all cities\n",
    "  * Alternate hypothesis :- There is significance difference between cities\n",
    "  \n",
    "Need to do Annova test because of two more variables in cities"
   ]
  },
  {
   "cell_type": "code",
   "execution_count": 43,
   "id": "7c2e0876",
   "metadata": {},
   "outputs": [
    {
     "data": {
      "text/plain": [
       "Yangon       340\n",
       "Mandalay     332\n",
       "Naypyitaw    328\n",
       "Name: City, dtype: int64"
      ]
     },
     "execution_count": 43,
     "metadata": {},
     "output_type": "execute_result"
    }
   ],
   "source": [
    "df['City'].value_counts()"
   ]
  },
  {
   "cell_type": "code",
   "execution_count": 46,
   "id": "606bab96",
   "metadata": {},
   "outputs": [],
   "source": [
    "Yangon=df[df['City']=='Yangon']['Total'].sample(328)\n",
    "Naypyitaw=df[df['City']=='Naypyitaw']['Total'].sample(328)\n",
    "Mandalay=df[df['City']=='Mandalay']['Total'].sample(328)"
   ]
  },
  {
   "cell_type": "code",
   "execution_count": 47,
   "id": "7839d1c9",
   "metadata": {},
   "outputs": [
    {
     "data": {
      "text/plain": [
       "F_onewayResult(statistic=0.7587719946118746, pvalue=0.4685156781056221)"
      ]
     },
     "execution_count": 47,
     "metadata": {},
     "output_type": "execute_result"
    }
   ],
   "source": [
    "stats.f_oneway(Yangon,Naypyitaw,Mandalay)"
   ]
  },
  {
   "cell_type": "markdown",
   "id": "a876deaa",
   "metadata": {},
   "source": [
    "* p value is greater than 0.05 so accept the null hypothesis\n",
    "* There is no significance difference between all cities"
   ]
  },
  {
   "cell_type": "code",
   "execution_count": 48,
   "id": "761ae118",
   "metadata": {},
   "outputs": [
    {
     "data": {
      "text/plain": [
       "<AxesSubplot:xlabel='City', ylabel='Total'>"
      ]
     },
     "execution_count": 48,
     "metadata": {},
     "output_type": "execute_result"
    },
    {
     "data": {
      "image/png": "[encoded data removed]",
      "text/plain": [
       "<Figure size 432x288 with 1 Axes>"
      ]
     },
     "metadata": {
      "needs_background": "light"
     },
     "output_type": "display_data"
    }
   ],
   "source": [
    "sns.boxplot(data=df,y='Total',x='City')\n",
    "#small difference only will be there between all cities"
   ]
  },
  {
   "cell_type": "code",
   "execution_count": 49,
   "id": "7b23075b",
   "metadata": {},
   "outputs": [
    {
     "data": {
      "text/plain": [
       "<AxesSubplot:xlabel='City', ylabel='Total'>"
      ]
     },
     "execution_count": 49,
     "metadata": {},
     "output_type": "execute_result"
    },
    {
     "data": {
      "image/png": "[encoded data removed]",
      "text/plain": [
       "<Figure size 432x288 with 1 Axes>"
      ]
     },
     "metadata": {
      "needs_background": "light"
     },
     "output_type": "display_data"
    }
   ],
   "source": [
    "sns.barplot(data=df,x='City',y='Total')"
   ]
  },
  {
   "cell_type": "code",
   "execution_count": 52,
   "id": "a2a05c31",
   "metadata": {},
   "outputs": [
    {
     "data": {
      "text/plain": [
       "Fashion accessories       178\n",
       "Food and beverages        174\n",
       "Electronic accessories    170\n",
       "Sports and travel         166\n",
       "Home and lifestyle        160\n",
       "Health and beauty         152\n",
       "Name: Product line, dtype: int64"
      ]
     },
     "execution_count": 52,
     "metadata": {},
     "output_type": "execute_result"
    }
   ],
   "source": [
    "# To check relation between product lines\n",
    "df['Product line'].value_counts()"
   ]
  },
  {
   "cell_type": "code",
   "execution_count": 55,
   "id": "c1c0a0e0",
   "metadata": {},
   "outputs": [],
   "source": [
    "a=df[df['Product line']=='Fashion accessories']['Total'].sample(152)\n",
    "b=df[df['Product line']=='Food and beverages']['Total'].sample(152)\n",
    "c=df[df['Product line']=='Electronic accessories']['Total'].sample(152)\n",
    "d=df[df['Product line']=='Sports and travel']['Total'].sample(152)\n",
    "e=df[df['Product line']=='Home and lifestyle']['Total'].sample(152)\n",
    "f=df[df['Product line']=='Health and beauty']['Total'].sample(152)"
   ]
  },
  {
   "cell_type": "markdown",
   "id": "19129682",
   "metadata": {},
   "source": [
    "* Hypothesis define\n",
    "  * Null hypothesis :- There is no significance difference between all product lines\n",
    "  * Alternate hypothesis :- There is significance difference between product lines"
   ]
  },
  {
   "cell_type": "code",
   "execution_count": 56,
   "id": "9d858151",
   "metadata": {},
   "outputs": [
    {
     "data": {
      "text/plain": [
       "F_onewayResult(statistic=0.6523566658988235, pvalue=0.6597698992388557)"
      ]
     },
     "execution_count": 56,
     "metadata": {},
     "output_type": "execute_result"
    }
   ],
   "source": [
    "stats.f_oneway(a,b,c,d,e,f)"
   ]
  },
  {
   "cell_type": "markdown",
   "id": "a5d12f6b",
   "metadata": {},
   "source": [
    "p value is greater than 0.05 so have to accept the null hypothesis"
   ]
  },
  {
   "cell_type": "code",
   "execution_count": 60,
   "id": "b6e05842",
   "metadata": {},
   "outputs": [
    {
     "data": {
      "text/plain": [
       "<AxesSubplot:xlabel='Product line', ylabel='Total'>"
      ]
     },
     "execution_count": 60,
     "metadata": {},
     "output_type": "execute_result"
    },
    {
     "data": {
      "image/png": "[encoded data removed]",
      "text/plain": [
       "<Figure size 1080x504 with 1 Axes>"
      ]
     },
     "metadata": {
      "needs_background": "light"
     },
     "output_type": "display_data"
    }
   ],
   "source": [
    "plt.figure(figsize=[15,7])\n",
    "sns.barplot(data=df,x='Product line',y='Total')\n"
   ]
  },
  {
   "cell_type": "code",
   "execution_count": 63,
   "id": "977374d4",
   "metadata": {},
   "outputs": [
    {
     "data": {
      "text/plain": [
       "<AxesSubplot:xlabel='Product line', ylabel='Total'>"
      ]
     },
     "execution_count": 63,
     "metadata": {},
     "output_type": "execute_result"
    },
    {
     "data": {
      "image/png": "[encoded data removed]",
      "text/plain": [
       "<Figure size 1080x360 with 1 Axes>"
      ]
     },
     "metadata": {
      "needs_background": "light"
     },
     "output_type": "display_data"
    }
   ],
   "source": [
    "plt.figure(figsize=[15,5])\n",
    "sns.boxplot(data=df,y='Total',x='Product line')"
   ]
  },
  {
   "cell_type": "code",
   "execution_count": 71,
   "id": "845b3556",
   "metadata": {},
   "outputs": [],
   "source": [
    "member=df[df['Customer type']=='Member']['Total']\n",
    "normal=df[df['Customer type']=='Normal']['Total']"
   ]
  },
  {
   "cell_type": "markdown",
   "id": "84800f40",
   "metadata": {},
   "source": [
    "* Hypothesis define\n",
    "  * Null hypothesis :- There is no significance difference between customer types\n",
    "  * Alternate hypothesis :- There is significance difference between customer types"
   ]
  },
  {
   "cell_type": "code",
   "execution_count": 72,
   "id": "2e0c75db",
   "metadata": {},
   "outputs": [
    {
     "data": {
      "text/plain": [
       "Ttest_indResult(statistic=0.6215268724928228, pvalue=0.5343949596143621)"
      ]
     },
     "execution_count": 72,
     "metadata": {},
     "output_type": "execute_result"
    }
   ],
   "source": [
    "stats.ttest_ind(member,normal)"
   ]
  },
  {
   "cell_type": "markdown",
   "id": "aee6c80b",
   "metadata": {},
   "source": [
    "p value is greater than 0.05 so have to accept the null hypothesis no significance difference between both customer types"
   ]
  },
  {
   "cell_type": "code",
   "execution_count": 73,
   "id": "49fbee37",
   "metadata": {},
   "outputs": [
    {
     "data": {
      "text/plain": [
       "<AxesSubplot:xlabel='Customer type', ylabel='Total'>"
      ]
     },
     "execution_count": 73,
     "metadata": {},
     "output_type": "execute_result"
    },
    {
     "data": {
      "image/png": "[encoded data removed]",
      "text/plain": [
       "<Figure size 432x288 with 1 Axes>"
      ]
     },
     "metadata": {
      "needs_background": "light"
     },
     "output_type": "display_data"
    }
   ],
   "source": [
    "sns.barplot(data=df,x='Customer type',y='Total')"
   ]
  },
  {
   "cell_type": "code",
   "execution_count": 74,
   "id": "55b4dd20",
   "metadata": {},
   "outputs": [
    {
     "data": {
      "text/plain": [
       "<AxesSubplot:xlabel='Customer type', ylabel='Total'>"
      ]
     },
     "execution_count": 74,
     "metadata": {},
     "output_type": "execute_result"
    },
    {
     "data": {
      "image/png": "[encoded data removed]",
      "text/plain": [
       "<Figure size 432x288 with 1 Axes>"
      ]
     },
     "metadata": {
      "needs_background": "light"
     },
     "output_type": "display_data"
    }
   ],
   "source": [
    "sns.boxplot(data=df,x='Customer type',y='Total')"
   ]
  },
  {
   "cell_type": "code",
   "execution_count": 76,
   "id": "3fb761cc",
   "metadata": {},
   "outputs": [
    {
     "data": {
      "text/plain": [
       "Ewallet        345\n",
       "Cash           344\n",
       "Credit card    311\n",
       "Name: Payment, dtype: int64"
      ]
     },
     "execution_count": 76,
     "metadata": {},
     "output_type": "execute_result"
    }
   ],
   "source": [
    "df['Payment'].value_counts()"
   ]
  },
  {
   "cell_type": "code",
   "execution_count": 78,
   "id": "1e0616d8",
   "metadata": {},
   "outputs": [],
   "source": [
    "ewallet=df[df['Payment']=='Ewallet']['Total'].sample(311)\n",
    "cash=df[df['Payment']=='Cash']['Total'].sample(311)\n",
    "cc=df[df['Payment']=='Credit card']['Total'].sample(311)"
   ]
  },
  {
   "cell_type": "markdown",
   "id": "92adb721",
   "metadata": {},
   "source": [
    "* Hypothesis define\n",
    "  * Null hypothesis :- There is no significance difference between payment type\n",
    "  * Alternate hypothesis :- There is significance difference between payment type"
   ]
  },
  {
   "cell_type": "code",
   "execution_count": 79,
   "id": "5bbece55",
   "metadata": {},
   "outputs": [
    {
     "data": {
      "text/plain": [
       "F_onewayResult(statistic=0.02328526349184044, pvalue=0.9769843158002425)"
      ]
     },
     "execution_count": 79,
     "metadata": {},
     "output_type": "execute_result"
    }
   ],
   "source": [
    "stats.f_oneway(ewallet,cash,cc)"
   ]
  },
  {
   "cell_type": "markdown",
   "id": "9df2381e",
   "metadata": {},
   "source": [
    "p value is greater than 0.05 so have to accept the null hypothesis"
   ]
  },
  {
   "cell_type": "code",
   "execution_count": 80,
   "id": "dc2c01eb",
   "metadata": {},
   "outputs": [
    {
     "data": {
      "text/plain": [
       "<AxesSubplot:xlabel='Payment', ylabel='Total'>"
      ]
     },
     "execution_count": 80,
     "metadata": {},
     "output_type": "execute_result"
    },
    {
     "data": {
      "image/png": "[encoded data removed]",
      "text/plain": [
       "<Figure size 432x288 with 1 Axes>"
      ]
     },
     "metadata": {
      "needs_background": "light"
     },
     "output_type": "display_data"
    }
   ],
   "source": [
    "sns.barplot(data=df,x='Payment',y='Total')"
   ]
  },
  {
   "cell_type": "code",
   "execution_count": 81,
   "id": "ed0d0d9d",
   "metadata": {},
   "outputs": [
    {
     "data": {
      "text/plain": [
       "<AxesSubplot:xlabel='Payment', ylabel='Total'>"
      ]
     },
     "execution_count": 81,
     "metadata": {},
     "output_type": "execute_result"
    },
    {
     "data": {
      "image/png": "[encoded data removed]",
      "text/plain": [
       "<Figure size 432x288 with 1 Axes>"
      ]
     },
     "metadata": {
      "needs_background": "light"
     },
     "output_type": "display_data"
    }
   ],
   "source": [
    "sns.boxplot(data=df,x='Payment',y='Total')"
   ]
  },
  {
   "cell_type": "code",
   "execution_count": 86,
   "id": "28c633e4",
   "metadata": {},
   "outputs": [
    {
     "data": {
      "text/plain": [
       "<AxesSubplot:xlabel='Product line', ylabel='count'>"
      ]
     },
     "execution_count": 86,
     "metadata": {},
     "output_type": "execute_result"
    },
    {
     "data": {
      "image/png": "[encoded data removed]",
      "text/plain": [
       "<Figure size 1008x360 with 1 Axes>"
      ]
     },
     "metadata": {
      "needs_background": "light"
     },
     "output_type": "display_data"
    }
   ],
   "source": [
    "plt.figure(figsize=[14,5])\n",
    "sns.countplot(data=df,x='Product line',hue='product_price_range')\n",
    "\n",
    "# high cost products are high in all product lines"
   ]
  },
  {
   "cell_type": "code",
   "execution_count": 88,
   "id": "21825c6e",
   "metadata": {},
   "outputs": [
    {
     "data": {
      "text/plain": [
       "<AxesSubplot:xlabel='Product line', ylabel='count'>"
      ]
     },
     "execution_count": 88,
     "metadata": {},
     "output_type": "execute_result"
    },
    {
     "data": {
      "image/png": "[encoded data removed]",
      "text/plain": [
       "<Figure size 1008x360 with 1 Axes>"
      ]
     },
     "metadata": {
      "needs_background": "light"
     },
     "output_type": "display_data"
    }
   ],
   "source": [
    "plt.figure(figsize=[14,5])\n",
    "sns.countplot(data=df,x='Product line',hue='customers_range')\n",
    "# in all categories low purchase customers only high so need to look into this try to increase high purchase amount customers"
   ]
  },
  {
   "cell_type": "code",
   "execution_count": 93,
   "id": "40339ac8",
   "metadata": {},
   "outputs": [
    {
     "data": {
      "text/plain": [
       "<AxesSubplot:xlabel='Product line', ylabel='count'>"
      ]
     },
     "execution_count": 93,
     "metadata": {},
     "output_type": "execute_result"
    },
    {
     "data": {
      "image/png": "[encoded data removed]",
      "text/plain": [
       "<Figure size 1008x360 with 1 Axes>"
      ]
     },
     "metadata": {
      "needs_background": "light"
     },
     "output_type": "display_data"
    }
   ],
   "source": [
    "plt.figure(figsize=[14,5])\n",
    "sns.countplot(data=df,x='Product line',hue='ratings_range')\n",
    "# There is no product lines with low rating category\n",
    "# food and beverages and fashion accessories having high rating"
   ]
  },
  {
   "cell_type": "code",
   "execution_count": 99,
   "id": "9a499f33",
   "metadata": {},
   "outputs": [
    {
     "data": {
      "text/plain": [
       "<AxesSubplot:xlabel='Product line', ylabel='gross income'>"
      ]
     },
     "execution_count": 99,
     "metadata": {},
     "output_type": "execute_result"
    },
    {
     "data": {
      "image/png": "[encoded data removed]",
      "text/plain": [
       "<Figure size 1008x360 with 1 Axes>"
      ]
     },
     "metadata": {
      "needs_background": "light"
     },
     "output_type": "display_data"
    }
   ],
   "source": [
    "plt.figure(figsize=[14,5])\n",
    "sns.barplot(data=df,x='Product line',y='gross income')"
   ]
  },
  {
   "cell_type": "code",
   "execution_count": 109,
   "id": "63c960e0",
   "metadata": {},
   "outputs": [],
   "source": [
    "df['Date']=pd.to_datetime(df['Date'])"
   ]
  },
  {
   "cell_type": "code",
   "execution_count": 111,
   "id": "98632a39",
   "metadata": {},
   "outputs": [],
   "source": [
    "df['month']=df['Date'].dt.month_name()"
   ]
  },
  {
   "cell_type": "code",
   "execution_count": 112,
   "id": "47c4630c",
   "metadata": {},
   "outputs": [],
   "source": [
    "df['day']=df['Date'].dt.day_name()"
   ]
  },
  {
   "cell_type": "code",
   "execution_count": 113,
   "id": "8770f720",
   "metadata": {},
   "outputs": [],
   "source": [
    "df['year']=df['Date'].dt.year"
   ]
  },
  {
   "cell_type": "code",
   "execution_count": 115,
   "id": "cbcd7ac6",
   "metadata": {},
   "outputs": [],
   "source": [
    "df['month_number']=df['Date'].dt.month"
   ]
  },
  {
   "cell_type": "code",
   "execution_count": 120,
   "id": "b56360ae",
   "metadata": {},
   "outputs": [],
   "source": [
    "df['year_month']=df['Date'].apply(lambda x:x.strftime('%m-%y'))"
   ]
  },
  {
   "cell_type": "code",
   "execution_count": 125,
   "id": "d52432b1",
   "metadata": {},
   "outputs": [
    {
     "data": {
      "text/plain": [
       "<AxesSubplot:xlabel='day', ylabel='Total'>"
      ]
     },
     "execution_count": 125,
     "metadata": {},
     "output_type": "execute_result"
    },
    {
     "data": {
      "image/png": "[encoded data removed]",
      "text/plain": [
       "<Figure size 1008x288 with 1 Axes>"
      ]
     },
     "metadata": {
      "needs_background": "light"
     },
     "output_type": "display_data"
    }
   ],
   "source": [
    "plt.figure(figsize=[14,4])\n",
    "sns.barplot(data=df,x='day',y='Total')"
   ]
  },
  {
   "cell_type": "code",
   "execution_count": 126,
   "id": "0be2e625",
   "metadata": {},
   "outputs": [],
   "source": [
    "# same sales are happened in all day but need to focus on weekend days to increase the sales"
   ]
  },
  {
   "cell_type": "code",
   "execution_count": 129,
   "id": "99fca138",
   "metadata": {},
   "outputs": [
    {
     "data": {
      "text/plain": [
       "<AxesSubplot:xlabel='Product line', ylabel='Quantity'>"
      ]
     },
     "execution_count": 129,
     "metadata": {},
     "output_type": "execute_result"
    },
    {
     "data": {
      "image/png": "[encoded data removed]",
      "text/plain": [
       "<Figure size 1008x288 with 1 Axes>"
      ]
     },
     "metadata": {
      "needs_background": "light"
     },
     "output_type": "display_data"
    }
   ],
   "source": [
    "plt.figure(figsize=[14,4])\n",
    "sns.barplot(data=df,x='Product line',y='Quantity')"
   ]
  },
  {
   "cell_type": "code",
   "execution_count": null,
   "id": "96f6f099",
   "metadata": {},
   "outputs": [],
   "source": [
    "# all products quantity are selling same"
   ]
  },
  {
   "cell_type": "markdown",
   "id": "6e16a8c0",
   "metadata": {},
   "source": [
    "## Recommendation"
   ]
  },
  {
   "cell_type": "markdown",
   "id": "c2146629",
   "metadata": {},
   "source": [
    "* High cost products are high in all product line categories \n",
    "* High amount purchasing customers are low so need to focus to make customers to buy more high amount purchases\n",
    "* Same sales happened in all days between weekdays and weekend so need to focus to increase sales on weekend"
   ]
  }
 ],
 "metadata": {
  "kernelspec": {
   "display_name": "Python 3 (ipykernel)",
   "language": "python",
   "name": "python3"
  },
  "language_info": {
   "codemirror_mode": {
    "name": "ipython",
    "version": 3
   },
   "file_extension": ".py",
   "mimetype": "text/x-python",
   "name": "python",
   "nbconvert_exporter": "python",
   "pygments_lexer": "ipython3",
   "version": "3.9.12"
  }
 },
 "nbformat": 4,
 "nbformat_minor": 5
}
